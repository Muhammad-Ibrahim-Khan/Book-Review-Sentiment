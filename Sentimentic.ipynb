{
  "cells": [
    {
      "cell_type": "markdown",
      "metadata": {
        "id": "view-in-github",
        "colab_type": "text"
      },
      "source": [
        "<a href=\"https://colab.research.google.com/github/Muhammad-Ibrahim-Khan/Book-Review-Sentiment/blob/main/Sentimentic.ipynb\" target=\"_parent\"><img src=\"https://colab.research.google.com/assets/colab-badge.svg\" alt=\"Open In Colab\"/></a>"
      ]
    },
    {
      "cell_type": "code",
      "execution_count": null,
      "metadata": {
        "colab": {
          "base_uri": "https://localhost:8080/"
        },
        "id": "kdHK2tHk98Dn",
        "outputId": "3f215d9d-d1ad-4874-8f1a-3b6b3196ab36"
      },
      "outputs": [
        {
          "output_type": "stream",
          "name": "stdout",
          "text": [
            "--2022-02-17 06:55:12--  https://github.com/KeithGalli/sklearn/raw/master/data/sentiment/Books_small_10000.json\n",
            "Resolving github.com (github.com)... 52.192.72.89\n",
            "Connecting to github.com (github.com)|52.192.72.89|:443... connected.\n",
            "HTTP request sent, awaiting response... 302 Found\n",
            "Location: https://raw.githubusercontent.com/KeithGalli/sklearn/master/data/sentiment/Books_small_10000.json [following]\n",
            "--2022-02-17 06:55:13--  https://raw.githubusercontent.com/KeithGalli/sklearn/master/data/sentiment/Books_small_10000.json\n",
            "Resolving raw.githubusercontent.com (raw.githubusercontent.com)... 185.199.108.133, 185.199.109.133, 185.199.110.133, ...\n",
            "Connecting to raw.githubusercontent.com (raw.githubusercontent.com)|185.199.108.133|:443... connected.\n",
            "HTTP request sent, awaiting response... 200 OK\n",
            "Length: 8063542 (7.7M) [text/plain]\n",
            "Saving to: ‘Books_small_10000.json’\n",
            "\n",
            "Books_small_10000.j 100%[===================>]   7.69M  --.-KB/s    in 0.1s    \n",
            "\n",
            "2022-02-17 06:55:14 (70.3 MB/s) - ‘Books_small_10000.json’ saved [8063542/8063542]\n",
            "\n"
          ]
        }
      ],
      "source": [
        "!wget https://github.com/KeithGalli/sklearn/raw/master/data/sentiment/Books_small_10000.json"
      ],
      "id": "kdHK2tHk98Dn"
    },
    {
      "cell_type": "markdown",
      "metadata": {
        "id": "46171869"
      },
      "source": [
        "# Demonstrating sentiment analysis using bag of words on a text corpus\n",
        "\n",
        "The data was taken from amazon's website where they have a catalogue of reviews for different products. These reviews and the ratings will be used to create a sentiment detector where we give the model a review and it outputs the sentiment as either Positive, Negative or Neutral. Below is the link for the webiste:\n",
        "\n",
        "> https://nijianmo.github.io/amazon/index.html\n",
        "\n",
        "For demonstration purpose, we have only taken the first 10k examples to train and test our model. The purposes this demonstration will fulfill are:\n",
        "- Showcasing the train-test split function\n",
        "- Using a json raw data to load & prepare our relevant datasets\n",
        "- Using two feature extractors to showoff the scikit-learn API and its flexibility\n",
        "- Demonstrate several classifiers to see the reproducibility prospect of scikit-learn\n",
        "- Demonstrate, by changing our dataset, the scalability part of this API\n",
        "- View our results using a Confusion Matrix and ask for suggestions"
      ],
      "id": "46171869"
    },
    {
      "cell_type": "markdown",
      "metadata": {
        "id": "36bc26d6"
      },
      "source": [
        "## Create Classes\n",
        "\n",
        "Our input data has two parts:\n",
        "- 1) Review: Text data on which we're going to train our model.\n",
        "- 2) Score: Rating the user has given from 1-5; also our target.\n",
        "\n",
        "We intend to create a class whose instance will have the raw text data and a sentiment as members of it."
      ],
      "id": "36bc26d6"
    },
    {
      "cell_type": "code",
      "execution_count": null,
      "metadata": {
        "id": "b120891f"
      },
      "outputs": [],
      "source": [
        "import random\n",
        "\n",
        "class Sentiment:\n",
        "    NEGATIVE = 'NEGATIVE'\n",
        "    NEUTRAL = 'NEUTRAL'\n",
        "    POSITIVE = 'POSITIVE'\n",
        "\n",
        "    \n",
        "class Review:\n",
        "    def __init__(self, text, score):\n",
        "        self.text = text\n",
        "        self.score = score\n",
        "        self.sentiment = self.get_sentiment()\n",
        "        \n",
        "    def get_sentiment(self):\n",
        "        if self.score <= 2:\n",
        "            return Sentiment.NEGATIVE\n",
        "        elif self.score == 3:\n",
        "            return Sentiment.NEUTRAL\n",
        "        else:\n",
        "            return Sentiment.POSITIVE\n",
        "        \n",
        "class ReviewContainer:\n",
        "    def __init__(self, reviews):\n",
        "        self.reviews = reviews\n",
        "    \n",
        "    def get_text(self):\n",
        "        return [x.text for x in self.reviews]\n",
        "    \n",
        "    def get_sentiment(self):\n",
        "        return [x.sentiment for x in self.reviews]\n",
        "    \n",
        "    def evenly_distribute(self):\n",
        "        negative = list(filter(lambda x: x.sentiment == Sentiment.NEGATIVE, self.reviews))\n",
        "        neutral = list(filter(lambda x: x.sentiment == Sentiment.NEUTRAL, self.reviews))\n",
        "        positive = list(filter(lambda x: x.sentiment == Sentiment.POSITIVE, self.reviews))\n",
        "        \n",
        "        min_length = min(len(positive), len(negative), len(neutral))\n",
        "\n",
        "        positive_shrunk = positive[:min_length]\n",
        "        negative_shrunk = negative[:min_length]\n",
        "        neutral_shrunk = neutral[:min_length]\n",
        "        self.reviews = negative_shrunk + positive_shrunk + neutral_shrunk\n",
        "\n",
        "        random.shuffle(self.reviews)\n",
        "    "
      ],
      "id": "b120891f"
    },
    {
      "cell_type": "markdown",
      "metadata": {
        "id": "e08c8cda"
      },
      "source": [
        "## Load Data"
      ],
      "id": "e08c8cda"
    },
    {
      "cell_type": "code",
      "execution_count": null,
      "metadata": {
        "colab": {
          "base_uri": "https://localhost:8080/"
        },
        "id": "acaeddc8",
        "outputId": "0ef8a0b4-6df3-46f7-ec87-25d40fc46b8c",
        "scrolled": true
      },
      "outputs": [
        {
          "output_type": "stream",
          "name": "stdout",
          "text": [
            "I hoped for Mia to have some peace in this book, but her story is so real and raw.  Broken World was so touching and emotional because you go from Mia's trauma to her trying to cope.  I love the way the story displays how there is no \"just bouncing back\" from being sexually assaulted.  Mia showed us how those demons come for you every day and how sometimes they best you. I was so in the moment with Broken World and hurt with Mia because she was surrounded by people but so alone and I understood her feelings.  I found myself wishing I could give her some of my courage and strength or even just to be there for her.  Thank you Lizzy for putting a great character's voice on a strong subject and making it so that other peoples story may be heard through Mia's.\n",
            "5.0\n",
            "POSITIVE\n"
          ]
        }
      ],
      "source": [
        "import json\n",
        "\n",
        "file_name = '/content/Books_small_10000.json'\n",
        "\n",
        "reviews = []\n",
        "with open(file_name) as f:\n",
        "    for line in f:\n",
        "        review = json.loads(line)\n",
        "        reviews.append(Review(review['reviewText'], review['overall']))\n",
        "    \n",
        "# Taking a look at an example of our data\n",
        "print(reviews[5].text)\n",
        "print(reviews[5].score)\n",
        "print(reviews[5].sentiment)"
      ],
      "id": "acaeddc8"
    },
    {
      "cell_type": "code",
      "source": [
        "type(reviews[5].text)"
      ],
      "metadata": {
        "id": "vow71dtmdtxJ"
      },
      "id": "vow71dtmdtxJ",
      "execution_count": null,
      "outputs": []
    },
    {
      "cell_type": "markdown",
      "metadata": {
        "id": "3a4be019"
      },
      "source": [
        "## Prepare Data\n",
        "#### Pre-processing"
      ],
      "id": "3a4be019"
    },
    {
      "cell_type": "code",
      "execution_count": null,
      "metadata": {
        "id": "de0f3d17"
      },
      "outputs": [],
      "source": [
        "from sklearn.model_selection import train_test_split\n",
        "\n",
        "training, test = train_test_split(reviews, test_size=0.10, \n",
        "                random_state = 42)\n",
        "\n",
        "train_container = ReviewContainer(training)\n",
        "test_container = ReviewContainer(test)\n",
        "\n",
        "train_container.evenly_distribute()\n",
        "test_container.evenly_distribute()\n",
        "\n",
        "train_x = train_container.get_text()\n",
        "train_y = train_container.get_sentiment()\n",
        "\n",
        "test_x = test_container.get_text()\n",
        "test_y = test_container.get_sentiment()"
      ],
      "id": "de0f3d17"
    },
    {
      "cell_type": "markdown",
      "metadata": {
        "id": "25d1c460"
      },
      "source": [
        "## Bag of words Vectorizer, showcasing the CountVectorizer and TFIDF feature extractor"
      ],
      "id": "25d1c460"
    },
    {
      "cell_type": "code",
      "execution_count": null,
      "metadata": {
        "colab": {
          "base_uri": "https://localhost:8080/"
        },
        "id": "bd901891",
        "outputId": "5b5f6ead-c21f-42c5-cc54-076ebdfb85ed"
      },
      "outputs": [
        {
          "output_type": "stream",
          "name": "stdout",
          "text": [
            "The next In Galli's series about her VA characters and this one focuses on a character that intrigued me from Wasted Heart, so I was happy that Jessie was getting her own book. This one switches between first person for Jessie's scenes and third person for Lauren's story, so Lauren's a bit more fleshed out than Elise from the previous book. However the book suffers from the leads spending most of their time dating other people, and then pushing and pulling with each other for the last third of the book. Also Lauren's known Jessie for 11 years, but doesn't seem to know her at all and finds out most of her new info about Jessie from other people and not from talking to Jessie, so it was hard to see why Jessie liked Lauren so much. It's not the best in the series but it's ok.\n",
            "NEUTRAL\n",
            "  (0, 8576)\t0.06417401857594932\n",
            "  (0, 1416)\t0.05059228611294685\n",
            "  (0, 8143)\t0.03751907707813668\n",
            "  (0, 7284)\t0.05430537887720623\n",
            "  (0, 13527)\t0.0490032951718614\n",
            "  (0, 10834)\t0.04661968795935091\n",
            "  (0, 5687)\t0.05048047183774633\n",
            "  (0, 6692)\t0.057514388791586143\n",
            "  (0, 12121)\t0.07259426375599456\n",
            "  (0, 8421)\t0.049924398245192174\n",
            "  (0, 6400)\t0.07875703679487592\n",
            "  (0, 8335)\t0.04890359085756915\n",
            "  (0, 4823)\t0.07102930935281215\n",
            "  (0, 598)\t0.03117110834922091\n",
            "  (0, 1016)\t0.03261991887332749\n",
            "  (0, 7007)\t0.042944983985808156\n",
            "  (0, 12470)\t0.05365101409524444\n",
            "  (0, 10841)\t0.060737016158739804\n",
            "  (0, 3776)\t0.05213480511308091\n",
            "  (0, 1899)\t0.046620826269716475\n",
            "  (0, 13757)\t0.05290934385911787\n",
            "  (0, 15)\t0.09017263091049602\n",
            "  (0, 7013)\t0.07153150969797989\n",
            "  (0, 634)\t0.044158260353064555\n",
            "  (0, 7102)\t0.055533653603207306\n",
            "  :\t:\n",
            "  (0, 6773)\t0.6448321147884101\n",
            "  (0, 5679)\t0.06121323533436423\n",
            "  (0, 13373)\t0.06743898122586381\n",
            "  (0, 11347)\t0.12844033170093752\n",
            "  (0, 5786)\t0.060052132616588254\n",
            "  (0, 13381)\t0.08524731105427716\n",
            "  (0, 5122)\t0.16686661603483113\n",
            "  (0, 7753)\t0.031703906950955735\n",
            "  (0, 6601)\t0.08272963494847185\n",
            "  (0, 12297)\t0.047378395369166514\n",
            "  (0, 2191)\t0.04466046069823229\n",
            "  (0, 8599)\t0.029514113271416155\n",
            "  (0, 4947)\t0.0867022331020678\n",
            "  (0, 8602)\t0.06094761489918348\n",
            "  (0, 12360)\t0.03777205032521253\n",
            "  (0, 707)\t0.1050625965893335\n",
            "  (0, 2199)\t0.03403416640706027\n",
            "  (0, 13103)\t0.10187295650615572\n",
            "  (0, 5848)\t0.1422882834998988\n",
            "  (0, 274)\t0.06610878953833878\n",
            "  (0, 10914)\t0.0818176221178088\n",
            "  (0, 5196)\t0.10747201913140168\n",
            "  (0, 6271)\t0.04469670734809754\n",
            "  (0, 8344)\t0.047222044591551104\n",
            "  (0, 12302)\t0.12771005047596634\n"
          ]
        }
      ],
      "source": [
        "from sklearn.feature_extraction.text import CountVectorizer, TfidfVectorizer\n",
        "\n",
        "vectorizer = TfidfVectorizer()\n",
        "train_x_vectors = vectorizer.fit_transform(train_x) # Performs fitting and transform in the same step\n",
        "test_x_vectors = vectorizer.transform(test_x) # Don't wanna fit\n",
        "\n",
        "\n",
        "print(train_x[0])\n",
        "print(train_y[0])\n",
        "\n",
        "print(train_x_vectors[0])"
      ],
      "id": "bd901891"
    },
    {
      "cell_type": "markdown",
      "metadata": {
        "id": "03039a28"
      },
      "source": [
        "# Classification\n"
      ],
      "id": "03039a28"
    },
    {
      "cell_type": "markdown",
      "metadata": {
        "id": "52c582e2"
      },
      "source": [
        "### Importing modules"
      ],
      "id": "52c582e2"
    },
    {
      "cell_type": "code",
      "execution_count": null,
      "metadata": {
        "id": "d1b8a06f"
      },
      "outputs": [],
      "source": [
        "from sklearn.svm import SVC\n",
        "from sklearn.tree import DecisionTreeClassifier\n",
        "from sklearn.naive_bayes import GaussianNB\n",
        "from sklearn.linear_model import LogisticRegression"
      ],
      "id": "d1b8a06f"
    },
    {
      "cell_type": "markdown",
      "metadata": {
        "id": "604e5b80"
      },
      "source": [
        "#### Linear SVM"
      ],
      "id": "604e5b80"
    },
    {
      "cell_type": "code",
      "execution_count": null,
      "metadata": {
        "colab": {
          "base_uri": "https://localhost:8080/"
        },
        "id": "72fc65cb",
        "outputId": "35467798-28e0-49bc-f24a-f4ba7bfff53d"
      },
      "outputs": [
        {
          "output_type": "stream",
          "name": "stdout",
          "text": [
            "In reading this story my thoughts were flashing on Kristen Ashley's motorcycle club series.  The similarities made me wonder who published first.I had trouble following how the various characters tied together.  If the lead character's father was powerful, why did he not destroy the young man and his friends who sexually abused her?  The characters were not believable, the dialogue was okay, nothing memorable.  The story line was rambling.I may re-read this book and might be interested in other works by this author.Remember this is my personal opinion and does not reflect on the author.\n"
          ]
        },
        {
          "output_type": "execute_result",
          "data": {
            "text/plain": [
              "array(['NEGATIVE'], dtype='<U8')"
            ]
          },
          "metadata": {},
          "execution_count": 49
        }
      ],
      "source": [
        "clf_svm = SVC(kernel='linear') # You may choose the kernel to be RBF or linear; read documentation for more info.\n",
        "\n",
        "clf_svm.fit(train_x_vectors, train_y)\n",
        "\n",
        "# Testing our classifier on an example\n",
        "\n",
        "print(test_x[0])\n",
        "#print(test_x_vectors[0])\n",
        "\n",
        "clf_svm.predict(test_x_vectors[0])"
      ],
      "id": "72fc65cb"
    },
    {
      "cell_type": "markdown",
      "metadata": {
        "id": "464633a9"
      },
      "source": [
        "#### Decision Tree"
      ],
      "id": "464633a9"
    },
    {
      "cell_type": "code",
      "execution_count": null,
      "metadata": {
        "colab": {
          "base_uri": "https://localhost:8080/"
        },
        "id": "9a0d0721",
        "outputId": "8a02b87e-0bdd-4579-896f-388cfb36afb0"
      },
      "outputs": [
        {
          "output_type": "execute_result",
          "data": {
            "text/plain": [
              "array(['NEGATIVE'], dtype='<U8')"
            ]
          },
          "metadata": {},
          "execution_count": 50
        }
      ],
      "source": [
        "clf_dt = DecisionTreeClassifier()\n",
        "clf_dt.fit(train_x_vectors, train_y)\n",
        "\n",
        "clf_dt.predict(test_x_vectors[0])"
      ],
      "id": "9a0d0721"
    },
    {
      "cell_type": "markdown",
      "metadata": {
        "id": "e5b9f793"
      },
      "source": [
        "#### Naive Bayes"
      ],
      "id": "e5b9f793"
    },
    {
      "cell_type": "code",
      "execution_count": null,
      "metadata": {
        "colab": {
          "base_uri": "https://localhost:8080/"
        },
        "id": "4e54837a",
        "outputId": "5d78ea44-e05e-47b7-e36a-bcd549dc66d6"
      },
      "outputs": [
        {
          "output_type": "execute_result",
          "data": {
            "text/plain": [
              "array(['POSITIVE'], dtype='<U8')"
            ]
          },
          "metadata": {},
          "execution_count": 51
        }
      ],
      "source": [
        "clf_nb = GaussianNB()\n",
        "\n",
        "# Requires a dense array as input whereas CountVectorizer by default returns a sparse array.\n",
        "clf_nb.fit(train_x_vectors.toarray(), train_y) \n",
        "\n",
        "clf_nb.predict(test_x_vectors[0].toarray())"
      ],
      "id": "4e54837a"
    },
    {
      "cell_type": "markdown",
      "metadata": {
        "id": "1dfd497e"
      },
      "source": [
        "#### Logistic Regression"
      ],
      "id": "1dfd497e"
    },
    {
      "cell_type": "code",
      "execution_count": null,
      "metadata": {
        "colab": {
          "base_uri": "https://localhost:8080/"
        },
        "id": "d79bc15e",
        "outputId": "95a6daa1-15ba-47e7-b7db-19a33356857c"
      },
      "outputs": [
        {
          "output_type": "execute_result",
          "data": {
            "text/plain": [
              "array(['NEGATIVE'], dtype='<U8')"
            ]
          },
          "metadata": {},
          "execution_count": 52
        }
      ],
      "source": [
        "clf_lr = LogisticRegression(max_iter=50000) \n",
        "# The max_iter is introduced because our data is not normalized(optimized) for this model.\n",
        "\n",
        "clf_lr.fit(train_x_vectors, train_y) \n",
        "\n",
        "clf_lr.predict(test_x_vectors[0])"
      ],
      "id": "d79bc15e"
    },
    {
      "cell_type": "markdown",
      "metadata": {
        "id": "2a727580"
      },
      "source": [
        "## Evaluation of models on test set"
      ],
      "id": "2a727580"
    },
    {
      "cell_type": "markdown",
      "metadata": {
        "id": "06039588"
      },
      "source": [
        "#### Mean Accuracy"
      ],
      "id": "06039588"
    },
    {
      "cell_type": "code",
      "execution_count": null,
      "metadata": {
        "colab": {
          "base_uri": "https://localhost:8080/"
        },
        "id": "c061bef9",
        "outputId": "155666d2-0dfe-4772-c87e-a997c862dbd1"
      },
      "outputs": [
        {
          "output_type": "stream",
          "name": "stdout",
          "text": [
            "The accuracy of our SVM Classifier on test set = 0.577 \n",
            "The accuracy of our Decision Tree Classifier on test set = 0.446 \n",
            "The accuracy of our Naive Bayes Classifier on test set = 0.435 \n",
            "The accuracy of our Logistic Regression Classifier on test set = 0.613 \n"
          ]
        }
      ],
      "source": [
        "# Score for our SVM Classifier\n",
        "print(f\"The accuracy of our SVM Classifier on test set = {clf_svm.score(test_x_vectors, test_y):.3f} \")\n",
        "\n",
        "# Score for our Decision Tree Classifier\n",
        "print(f\"The accuracy of our Decision Tree Classifier on test set = {clf_dt.score(test_x_vectors, test_y):.3f} \")\n",
        "\n",
        "# Score for our Naive Bayes Classifier\n",
        "print(f\"The accuracy of our Naive Bayes Classifier on test set = {clf_nb.score(test_x_vectors.toarray(), test_y):.3f} \")\n",
        "\n",
        "# Score for our Logistic Regression Classifier\n",
        "print(f\"The accuracy of our Logistic Regression Classifier on test set = {clf_lr.score(test_x_vectors, test_y):.3f} \")\n"
      ],
      "id": "c061bef9"
    },
    {
      "cell_type": "markdown",
      "metadata": {
        "id": "c82defb8"
      },
      "source": [
        "#### F1 Score\n",
        "Combines precision and recall to evaluate our model with the following formula:\n",
        ">F1 = 2 * (precision * recall) / (precision + recall)"
      ],
      "id": "c82defb8"
    },
    {
      "cell_type": "code",
      "execution_count": null,
      "metadata": {
        "colab": {
          "base_uri": "https://localhost:8080/"
        },
        "id": "af019ce0",
        "outputId": "673dacf8-4cf0-4e5d-b97d-a03ebb755897"
      },
      "outputs": [
        {
          "output_type": "stream",
          "name": "stdout",
          "text": [
            "The F1 score of our SVM Classifier on test set is: For Positive = 0.66, For Neutral = 0.50, For Negative = 0.57\n",
            "The F1 score of our Decision Tree Classifier on test set is: For Positive = 0.49, For Neutral = 0.40, For Negative = 0.46\n",
            "The F1 score of our Naive Bayes Classifier on test set is: For Positive = 0.39, For Neutral = 0.42, For Negative = 0.48\n",
            "The F1 score of our Logistic Regression Classifier on test set is: For Positive = 0.71, For Neutral = 0.49, For Negative = 0.63 \n"
          ]
        }
      ],
      "source": [
        "from sklearn.metrics import f1_score\n",
        "\n",
        "# F1 Score for our SVM Classifier\n",
        "svm_score = f1_score(test_y, clf_svm.predict(test_x_vectors), average=None, labels=[Sentiment.POSITIVE, Sentiment.NEUTRAL, Sentiment.NEGATIVE])\n",
        "print(f\"The F1 score of our SVM Classifier on test set is: For Positive = {svm_score[0]:.2f}, For Neutral = {svm_score[1]:.2f}, For Negative = {svm_score[2]:.2f}\")\n",
        "# svm_score\n",
        "\n",
        "# F1 Score for our Decision Tree Classifier\n",
        "dt_score = f1_score(test_y, clf_dt.predict(test_x_vectors), average=None, labels=[Sentiment.POSITIVE, Sentiment.NEUTRAL, Sentiment.NEGATIVE])\n",
        "print(f\"The F1 score of our Decision Tree Classifier on test set is: For Positive = {dt_score[0]:.2f}, For Neutral = {dt_score[1]:.2f}, For Negative = {dt_score[2]:.2f}\")\n",
        "\n",
        "# F1 Score for our Naive Bayes Classifier\n",
        "nb_score = f1_score(test_y, clf_nb.predict(test_x_vectors.toarray()), average=None, labels=[Sentiment.POSITIVE, Sentiment.NEUTRAL, Sentiment.NEGATIVE])\n",
        "print(f\"The F1 score of our Naive Bayes Classifier on test set is: For Positive = {nb_score[0]:.2f}, For Neutral = {nb_score[1]:.2f}, For Negative = {nb_score[2]:.2f}\")\n",
        "\n",
        "# F1 Score for our Logistic Regression Classifier\n",
        "lr_score = f1_score(test_y, clf_lr.predict(test_x_vectors), average=None, labels=[Sentiment.POSITIVE, Sentiment.NEUTRAL, Sentiment.NEGATIVE])\n",
        "print(f\"The F1 score of our Logistic Regression Classifier on test set is: For Positive = {lr_score[0]:.2f}, For Neutral = {lr_score[1]:.2f}, For Negative = {lr_score[2]:.2f} \")"
      ],
      "id": "af019ce0"
    },
    {
      "cell_type": "markdown",
      "metadata": {
        "id": "4b004cc4"
      },
      "source": [
        "## Conclusion\n",
        "The F1 score is telling us that when it comes to marking an input as positive our models have good results but for the other 2 sentiments the results are extremely bad(remember that F1 score accounts for precision and recall). So this means that our models are not at fault here since the same test data was provided to all models(classifiers) hence we have good reproducibility.\n",
        "Now we have to check our data that we split into training and test sets."
      ],
      "id": "4b004cc4"
    },
    {
      "cell_type": "markdown",
      "metadata": {
        "id": "2b55020d"
      },
      "source": [
        "## Observing our data"
      ],
      "id": "2b55020d"
    },
    {
      "cell_type": "code",
      "execution_count": null,
      "metadata": {
        "colab": {
          "base_uri": "https://localhost:8080/"
        },
        "id": "07aa1d32",
        "outputId": "da085b27-e92f-49e6-f7ec-b6e4e582f439",
        "scrolled": true
      },
      "outputs": [
        {
          "output_type": "stream",
          "name": "stdout",
          "text": [
            "Size of our training data = 1764\n",
            "Number of positive labels in our training data = 588\n",
            "Percentage of positively labeled data = 33.33333333333333\n"
          ]
        }
      ],
      "source": [
        "# Checking our training data\n",
        "print(f\"Size of our training data = {len(train_y)}\")\n",
        "print(f\"Number of positive labels in our training data = {train_y.count(Sentiment.POSITIVE)}\")\n",
        "print(f\"Percentage of positively labeled data = {train_y.count(Sentiment.POSITIVE)/len(train_y) * 100}\")"
      ],
      "id": "07aa1d32"
    },
    {
      "cell_type": "markdown",
      "metadata": {
        "id": "9487c387"
      },
      "source": [
        "## Improvements to our model"
      ],
      "id": "9487c387"
    },
    {
      "cell_type": "code",
      "execution_count": null,
      "metadata": {
        "id": "e3e103a7"
      },
      "outputs": [],
      "source": [
        "# Pre-processing stage\n",
        "\n"
      ],
      "id": "e3e103a7"
    },
    {
      "cell_type": "markdown",
      "metadata": {
        "id": "10cfc115"
      },
      "source": [
        "### Test example(from user)"
      ],
      "id": "10cfc115"
    },
    {
      "cell_type": "code",
      "execution_count": null,
      "metadata": {
        "colab": {
          "base_uri": "https://localhost:8080/"
        },
        "id": "1b394024",
        "outputId": "aa2e7b7f-1a92-42b9-c644-34abb7906b98"
      },
      "outputs": [
        {
          "output_type": "stream",
          "name": "stdout",
          "text": [
            "SVM's predictions: ['POSITIVE' 'NEUTRAL' 'NEGATIVE' 'NEUTRAL' 'POSITIVE' 'NEGATIVE']\n",
            "Decision Tree's predictions: ['POSITIVE' 'NEUTRAL' 'POSITIVE' 'POSITIVE' 'NEUTRAL' 'POSITIVE']\n",
            "Naive Bayes's predictions: ['NEGATIVE' 'NEUTRAL' 'NEGATIVE' 'NEGATIVE' 'NEGATIVE' 'POSITIVE']\n",
            "Logistic Regression's predictions: ['POSITIVE' 'NEUTRAL' 'NEGATIVE' 'NEUTRAL' 'POSITIVE' 'NEGATIVE']\n"
          ]
        }
      ],
      "source": [
        "test_set = ['This is an abomination.', 'Good, for a disaster.', 'Meh.', 'Kind of vague but good.',\n",
        "            'An exquisite read.', 'A book to enjoy by a fireplace with a cup of tea.']\n",
        "new_test = vectorizer.transform(test_set)\n",
        "\n",
        "print(f\"SVM's predictions: {clf_svm.predict(new_test)}\")\n",
        "print(f\"Decision Tree's predictions: {clf_dt.predict(new_test)}\")\n",
        "print(f\"Naive Bayes's predictions: {clf_nb.predict(new_test.toarray())}\")\n",
        "print(f\"Logistic Regression's predictions: {clf_lr.predict(new_test)}\")\n"
      ],
      "id": "1b394024"
    },
    {
      "cell_type": "markdown",
      "metadata": {
        "id": "769961fc"
      },
      "source": [
        "## Tuning our Model with Grid Search"
      ],
      "id": "769961fc"
    },
    {
      "cell_type": "code",
      "execution_count": null,
      "metadata": {
        "colab": {
          "base_uri": "https://localhost:8080/"
        },
        "id": "3db64b41",
        "outputId": "c437c151-a2c3-4b6e-9ae9-d770021e9ddb"
      },
      "outputs": [
        {
          "output_type": "execute_result",
          "data": {
            "text/plain": [
              "GridSearchCV(cv=3, estimator=SVC(),\n",
              "             param_grid={'C': [1.0, 4.0, 8.0],\n",
              "                         'kernel': ['linear', 'rbf', 'poly']})"
            ]
          },
          "metadata": {},
          "execution_count": 58
        }
      ],
      "source": [
        "from sklearn.model_selection import GridSearchCV\n",
        "\n",
        "parameters = {'kernel':['linear', 'rbf', 'poly'], 'C':[1.0, 4.0, 8.0]}\n",
        "\n",
        "svc = SVC()\n",
        "clf = GridSearchCV(svc, parameters, cv=3)\n",
        "clf.fit(train_x_vectors, train_y)"
      ],
      "id": "3db64b41"
    },
    {
      "cell_type": "markdown",
      "metadata": {
        "id": "bb7a8dec"
      },
      "source": [
        "#### Viewing our best parameters"
      ],
      "id": "bb7a8dec"
    },
    {
      "cell_type": "code",
      "execution_count": null,
      "metadata": {
        "colab": {
          "base_uri": "https://localhost:8080/"
        },
        "id": "569ad7f7",
        "outputId": "ed7a314a-23e2-4c30-cb48-89d6089d1fca"
      },
      "outputs": [
        {
          "output_type": "stream",
          "name": "stdout",
          "text": [
            "{'C': 4.0, 'kernel': 'rbf'}\n"
          ]
        }
      ],
      "source": [
        "print(clf.best_params_)"
      ],
      "id": "569ad7f7"
    },
    {
      "cell_type": "markdown",
      "metadata": {
        "id": "07b6f136"
      },
      "source": [
        "### Checking our model's performance"
      ],
      "id": "07b6f136"
    },
    {
      "cell_type": "code",
      "execution_count": null,
      "metadata": {
        "colab": {
          "base_uri": "https://localhost:8080/"
        },
        "id": "9400ab69",
        "outputId": "4f242cb3-b310-41e3-c617-2c6f117488f6"
      },
      "outputs": [
        {
          "output_type": "stream",
          "name": "stdout",
          "text": [
            "The accuracy of our SVM Classifier on test set = 0.601 \n",
            "The F1 score of our SVM Classifier on test set is: For Positive = 0.66, For Neutral = 0.50, For Negative = 0.57\n"
          ]
        }
      ],
      "source": [
        "# Score for our SVM Classifier\n",
        "print(f\"The accuracy of our SVM Classifier on test set = {clf.score(test_x_vectors, test_y):.3f} \")\n",
        "\n",
        "# F1 Score for our SVM Classifier\n",
        "svm_score = f1_score(test_y, clf_svm.predict(test_x_vectors), average=None, labels=[Sentiment.POSITIVE, Sentiment.NEUTRAL, Sentiment.NEGATIVE])\n",
        "print(f\"The F1 score of our SVM Classifier on test set is: For Positive = {svm_score[0]:.2f}, For Neutral = {svm_score[1]:.2f}, For Negative = {svm_score[2]:.2f}\")\n"
      ],
      "id": "9400ab69"
    },
    {
      "cell_type": "markdown",
      "metadata": {
        "id": "08af1994"
      },
      "source": [
        "## Saving our Model"
      ],
      "id": "08af1994"
    },
    {
      "cell_type": "code",
      "execution_count": null,
      "metadata": {
        "id": "2219c6f3"
      },
      "outputs": [],
      "source": [
        "# import pickle\n",
        "\n",
        "# with open('./models/sentiment_classifier.pkl', 'wb') as f:\n",
        "#     pickle.dump(clf, f)"
      ],
      "id": "2219c6f3"
    },
    {
      "cell_type": "markdown",
      "metadata": {
        "id": "f9ed2ef4"
      },
      "source": [
        "## Loading our Model"
      ],
      "id": "f9ed2ef4"
    },
    {
      "cell_type": "code",
      "execution_count": null,
      "metadata": {
        "id": "1bf63b66"
      },
      "outputs": [],
      "source": [
        "# import pickle\n",
        "\n",
        "# with open('./models/sentiment_classifier.pkl', 'rb') as f:\n",
        "#     clf = pickle.load(f)"
      ],
      "id": "1bf63b66"
    },
    {
      "cell_type": "markdown",
      "metadata": {
        "id": "82c438d5"
      },
      "source": [
        "## Confusion Matrix"
      ],
      "id": "82c438d5"
    },
    {
      "cell_type": "code",
      "execution_count": null,
      "metadata": {
        "colab": {
          "base_uri": "https://localhost:8080/",
          "height": 286
        },
        "id": "505aa32a",
        "outputId": "0b8378d5-b6f2-4860-b0b9-bbb8a551a266"
      },
      "outputs": [
        {
          "output_type": "execute_result",
          "data": {
            "text/plain": [
              "<matplotlib.axes._subplots.AxesSubplot at 0x7fd5ef350250>"
            ]
          },
          "metadata": {},
          "execution_count": 63
        },
        {
          "output_type": "display_data",
          "data": {
            "image/png": "[encoded data removed]",
            "text/plain": [
              "<Figure size 432x288 with 2 Axes>"
            ]
          },
          "metadata": {
            "needs_background": "light"
          }
        }
      ],
      "source": [
        "from sklearn.metrics import confusion_matrix\n",
        "import seaborn as sn\n",
        "import pandas as pd\n",
        "import matplotlib as plt\n",
        "\n",
        "y_pred = clf.predict(test_x_vectors)\n",
        "\n",
        "labels = [Sentiment.POSITIVE, Sentiment.NEUTRAL, Sentiment.NEGATIVE]\n",
        "\n",
        "cm = confusion_matrix(test_y, y_pred, labels=labels)\n",
        "df_cm = pd.DataFrame(cm, index=labels, columns=labels)\n",
        "\n",
        "sn.heatmap(df_cm, annot=True, fmt='d')"
      ],
      "id": "505aa32a"
    },
    {
      "cell_type": "code",
      "execution_count": null,
      "metadata": {
        "id": "1f36a473"
      },
      "outputs": [],
      "source": [
        ""
      ],
      "id": "1f36a473"
    }
  ],
  "metadata": {
    "colab": {
      "name": "Sentimentic.ipynb",
      "provenance": [],
      "toc_visible": true,
      "include_colab_link": true
    },
    "kernelspec": {
      "display_name": "Python 3",
      "name": "python3"
    },
    "language_info": {
      "name": "python"
    }
  },
  "nbformat": 4,
  "nbformat_minor": 5
}